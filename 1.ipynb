{
 "cells": [
  {
   "cell_type": "code",
   "execution_count": 55,
   "metadata": {},
   "outputs": [
    {
     "name": "stdout",
     "output_type": "stream",
     "text": [
      "введите команду: ds\n",
      "ввделите номер полки: 7\n",
      "Такой полки не существует. Текущий перечень полок:  ['1', '2', '3']\n"
     ]
    }
   ],
   "source": [
    "documents = [\n",
    "{'type': 'passport', 'number': '2207 876234', 'name': 'Василий Гупкин'},\n",
    "{'type': 'invoice', 'number': '11-2', 'name': 'Геннадий Покемонов'},\n",
    "{'type': 'insurance', 'number': '10006', 'name': 'Аристарх Павлов'}\n",
    "]\n",
    "directories = {\n",
    "'1': ['2207 876234', '11-2'],\n",
    "'2': ['10006'],\n",
    "'3': []\n",
    "}\n",
    "        \n",
    "inp_1 = input('введите команду: ')\n",
    "if inp_1 == 'p':\n",
    "    inp_2 = input('введите номер документа: ')\n",
    "    det = False\n",
    "    for i in documents:\n",
    "        if i['number'] == inp_2:\n",
    "            det = True\n",
    "            print('Владелец документа: ', i['name'])\n",
    "    if not det:\n",
    "        print('Документ не найден в базе')\n",
    "elif inp_1 == 's':\n",
    "    inp_2 = input('введите номер документа: ')\n",
    "    bot = False\n",
    "    for k, v in directories.items():\n",
    "        for i in v:\n",
    "            if i == inp_2:\n",
    "                bot = True\n",
    "                print('Документ хранится на полке: ', k)\n",
    "    if not bot:\n",
    "        print('Документ не найден в базе')\n",
    "elif inp_1 == 'l':\n",
    "    for i in documents:\n",
    "        for k, v in directories.items():\n",
    "            for c in v:\n",
    "                if c == i['number']:\n",
    "                    print(i['number'],'тип:',i['type'],'владелец: ', i['name'],',','полка хранения: ', k )\n",
    "elif inp_1 == 'as':\n",
    "    inp_2 = input('введите номер полки: ')\n",
    "    hi = False\n",
    "    for f in directories.keys():\n",
    "        if inp_2 == f:\n",
    "            print('Такая полка уже существует. Текущий перечень полок: ', list(directories.keys()))\n",
    "        else:\n",
    "            hi = True\n",
    "    if hi:\n",
    "        directories[inp_2] = []\n",
    "        print(\"полка добавлена. Текущий перечень полок: \", list(directories.keys()))\n",
    "elif inp_1 == 'ds':\n",
    "    inp_2 = input('ввделите номер полки: ')\n",
    "    if inp_2 not in directories.keys():\n",
    "        print(\"Такой полки не существует. Текущий перечень полок: \", list(directories.keys()))\n",
    "    else:\n",
    "        if directories[inp_2] != []:\n",
    "            print(\"На полке есть документы, удалите их перед удалением полки. Текущий перечень полок: \", list(directories.keys()))\n",
    "        else:\n",
    "            del directories[inp_2]\n",
    "            print('Полка удалена. Текущий перечень полок: ',list(directories.keys()))\n",
    "              \n",
    "            \n",
    "    "
   ]
  },
  {
   "cell_type": "code",
   "execution_count": null,
   "metadata": {},
   "outputs": [],
   "source": []
  }
 ],
 "metadata": {
  "kernelspec": {
   "display_name": "Python 3",
   "language": "python",
   "name": "python3"
  },
  "language_info": {
   "codemirror_mode": {
    "name": "ipython",
    "version": 3
   },
   "file_extension": ".py",
   "mimetype": "text/x-python",
   "name": "python",
   "nbconvert_exporter": "python",
   "pygments_lexer": "ipython3",
   "version": "3.8.3"
  }
 },
 "nbformat": 4,
 "nbformat_minor": 4
}
